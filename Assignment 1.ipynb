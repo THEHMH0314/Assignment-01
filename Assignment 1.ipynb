{
 "cells": [
  {
   "cell_type": "markdown",
   "id": "50d03f78-b643-4519-8377-1edbcd1c5734",
   "metadata": {},
   "source": [
    "# ASSIGNMENT  01 ANSWERS"
   ]
  },
  {
   "cell_type": "markdown",
   "id": "8d97c086-c32b-41b4-8910-58fbbc714d5f",
   "metadata": {},
   "source": [
    "# SALARIES"
   ]
  },
  {
   "cell_type": "code",
   "execution_count": 52,
   "id": "b294c0ee-be81-4b42-bf9f-87aee1a6863a",
   "metadata": {},
   "outputs": [],
   "source": [
    "salaries = ['20k', '40k', '50k', '60k', '35k', '89k', '40k']"
   ]
  },
  {
   "cell_type": "markdown",
   "id": "902aa3bf-a74b-453a-bc5c-125264924922",
   "metadata": {},
   "source": [
    "### 1. What is the length of the salaries list."
   ]
  },
  {
   "cell_type": "code",
   "execution_count": 42,
   "id": "b93ec16c-9b87-4c16-80bd-1ab07cd4c433",
   "metadata": {},
   "outputs": [
    {
     "name": "stdout",
     "output_type": "stream",
     "text": [
      "7\n"
     ]
    }
   ],
   "source": [
    "print(len(salaries))"
   ]
  },
  {
   "cell_type": "markdown",
   "id": "954ff776-4054-49ac-8490-9a3369002970",
   "metadata": {},
   "source": [
    "### 2. Retrieve the third salary in the list by using index."
   ]
  },
  {
   "cell_type": "code",
   "execution_count": 43,
   "id": "62ac7f62-8e5d-4c87-96ab-72f3f78ac5f2",
   "metadata": {},
   "outputs": [
    {
     "name": "stdout",
     "output_type": "stream",
     "text": [
      "50k\n"
     ]
    }
   ],
   "source": [
    "print(salaries[2])"
   ]
  },
  {
   "cell_type": "markdown",
   "id": "bd604098-c946-4d7c-b8d6-b917ff5ed47b",
   "metadata": {},
   "source": [
    "### 3. Extract the last salary from the list by using a negative index."
   ]
  },
  {
   "cell_type": "code",
   "execution_count": 44,
   "id": "d973db84-3a83-468e-8b54-ed95d5f5864d",
   "metadata": {},
   "outputs": [
    {
     "name": "stdout",
     "output_type": "stream",
     "text": [
      "40k\n"
     ]
    }
   ],
   "source": [
    "print(salaries[-1])"
   ]
  },
  {
   "cell_type": "markdown",
   "id": "2f9b1354-0248-40ff-bf13-004d5ea78d33",
   "metadata": {},
   "source": [
    "### 4. Slice the salaries list to get only the middle three salaries."
   ]
  },
  {
   "cell_type": "code",
   "execution_count": 45,
   "id": "87ec5553-30b9-42ac-902f-6b8d79f5a071",
   "metadata": {},
   "outputs": [
    {
     "name": "stdout",
     "output_type": "stream",
     "text": [
      "['50k', '60k', '35k']\n"
     ]
    }
   ],
   "source": [
    "print (salaries [2:5])"
   ]
  },
  {
   "cell_type": "markdown",
   "id": "50325866-6b16-4776-9f4d-c0b266f92d2d",
   "metadata": {},
   "source": [
    "### 5. Add a new salary to the list, ‘100k’ by using append() method."
   ]
  },
  {
   "cell_type": "code",
   "execution_count": 53,
   "id": "c8fe2f5c-1fdb-41d7-89fe-02fd09fd211c",
   "metadata": {},
   "outputs": [
    {
     "name": "stdout",
     "output_type": "stream",
     "text": [
      "None\n"
     ]
    }
   ],
   "source": [
    "print (salaries.append('100k'))"
   ]
  },
  {
   "cell_type": "markdown",
   "id": "b47dfa05-fd3e-458d-bdd6-63e9ece1bb61",
   "metadata": {},
   "source": [
    "salaries"
   ]
  },
  {
   "cell_type": "code",
   "execution_count": 55,
   "id": "0904990b-38ac-497f-97ac-c40999f96d4c",
   "metadata": {},
   "outputs": [],
   "source": [
    "salaries += ['120k']"
   ]
  },
  {
   "cell_type": "markdown",
   "id": "2175716e-c2c5-4a31-b925-5e42e4afc826",
   "metadata": {},
   "source": [
    "### 5. Add a new salary to the list, ‘120k’ without method."
   ]
  },
  {
   "cell_type": "code",
   "execution_count": 56,
   "id": "78ed5fa4-04b6-46bf-b2d2-80840ed1b3e6",
   "metadata": {},
   "outputs": [
    {
     "data": {
      "text/plain": [
       "['20k', '40k', '50k', '60k', '35k', '89k', '40k', '100k', '120k']"
      ]
     },
     "execution_count": 56,
     "metadata": {},
     "output_type": "execute_result"
    }
   ],
   "source": [
    "salaries"
   ]
  },
  {
   "cell_type": "markdown",
   "id": "14d2cf23-fe2e-4581-bf96-dc6fe6c107d6",
   "metadata": {},
   "source": [
    "### 6.Replace the third salary in the list with '55k' and print the updated list."
   ]
  },
  {
   "cell_type": "code",
   "execution_count": 57,
   "id": "b0744e1e-bce1-4df9-88f0-2585070d6369",
   "metadata": {},
   "outputs": [],
   "source": [
    "salaries[2] = '55k'"
   ]
  },
  {
   "cell_type": "code",
   "execution_count": 58,
   "id": "7e7b282a-d01a-44e5-b87f-bef0684fc5d7",
   "metadata": {},
   "outputs": [
    {
     "data": {
      "text/plain": [
       "['20k', '40k', '55k', '60k', '35k', '89k', '40k', '100k', '120k']"
      ]
     },
     "execution_count": 58,
     "metadata": {},
     "output_type": "execute_result"
    }
   ],
   "source": [
    "salaries"
   ]
  },
  {
   "cell_type": "markdown",
   "id": "3a702492-8d93-402e-af8f-be77813c2102",
   "metadata": {},
   "source": [
    "### 7. Count how many times '40k' appears in the list"
   ]
  },
  {
   "cell_type": "code",
   "execution_count": 63,
   "id": "4408a166-247f-49f2-940d-8f4744bb4ac4",
   "metadata": {},
   "outputs": [
    {
     "data": {
      "text/plain": [
       "2"
      ]
     },
     "execution_count": 63,
     "metadata": {},
     "output_type": "execute_result"
    }
   ],
   "source": [
    "salaries.count('40k')"
   ]
  },
  {
   "cell_type": "markdown",
   "id": "4cf54fc4-3aa3-4278-9162-c9ee14fe4a05",
   "metadata": {},
   "source": [
    "### 8.Insert a new salary at the second position"
   ]
  },
  {
   "cell_type": "code",
   "execution_count": 64,
   "id": "289cb215-40c8-4829-9661-213e8fae7083",
   "metadata": {},
   "outputs": [],
   "source": [
    "salaries.insert(1, '45k')"
   ]
  },
  {
   "cell_type": "code",
   "execution_count": 65,
   "id": "413a0fdb-1881-44b6-832b-f538ccd6e33a",
   "metadata": {},
   "outputs": [
    {
     "data": {
      "text/plain": [
       "['20k', '45k', '40k', '55k', '60k', '35k', '89k', '40k', '100k', '120k']"
      ]
     },
     "execution_count": 65,
     "metadata": {},
     "output_type": "execute_result"
    }
   ],
   "source": [
    "salaries"
   ]
  },
  {
   "cell_type": "markdown",
   "id": "f646c2c0-2924-4f0a-8ac6-6a35762ddac7",
   "metadata": {},
   "source": [
    "### 9.Reverse the order of the salaries list with method."
   ]
  },
  {
   "cell_type": "code",
   "execution_count": 66,
   "id": "525124f9-b885-4915-afe5-26594bd1b8c4",
   "metadata": {},
   "outputs": [],
   "source": [
    "salaries.reverse()"
   ]
  },
  {
   "cell_type": "code",
   "execution_count": 67,
   "id": "03ae06da-9f2e-4446-b486-e1558cf27964",
   "metadata": {},
   "outputs": [
    {
     "data": {
      "text/plain": [
       "['120k', '100k', '40k', '89k', '35k', '60k', '55k', '40k', '45k', '20k']"
      ]
     },
     "execution_count": 67,
     "metadata": {},
     "output_type": "execute_result"
    }
   ],
   "source": [
    "salaries"
   ]
  },
  {
   "cell_type": "markdown",
   "id": "b8e1db78-25ff-4e21-8d10-9a33149ac4cf",
   "metadata": {},
   "source": [
    "### 10. Reverse the order of the salaries list without method."
   ]
  },
  {
   "cell_type": "code",
   "execution_count": 68,
   "id": "e3988673-0b55-4827-812c-8cae4056e8be",
   "metadata": {},
   "outputs": [],
   "source": [
    "salaries = salaries[::-1]"
   ]
  },
  {
   "cell_type": "code",
   "execution_count": 69,
   "id": "59dd64d5-ca9c-424b-a557-416b54644358",
   "metadata": {},
   "outputs": [
    {
     "data": {
      "text/plain": [
       "['20k', '45k', '40k', '55k', '60k', '35k', '89k', '40k', '100k', '120k']"
      ]
     },
     "execution_count": 69,
     "metadata": {},
     "output_type": "execute_result"
    }
   ],
   "source": [
    "salaries"
   ]
  },
  {
   "cell_type": "code",
   "execution_count": null,
   "id": "dc9ca01d-196b-48a5-be25-b1accf070b00",
   "metadata": {},
   "outputs": [],
   "source": []
  }
 ],
 "metadata": {
  "kernelspec": {
   "display_name": "Python 3 (ipykernel)",
   "language": "python",
   "name": "python3"
  },
  "language_info": {
   "codemirror_mode": {
    "name": "ipython",
    "version": 3
   },
   "file_extension": ".py",
   "mimetype": "text/x-python",
   "name": "python",
   "nbconvert_exporter": "python",
   "pygments_lexer": "ipython3",
   "version": "3.12.7"
  }
 },
 "nbformat": 4,
 "nbformat_minor": 5
}
